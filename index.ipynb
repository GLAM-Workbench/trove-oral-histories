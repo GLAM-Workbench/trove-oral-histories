{
 "cells": [
  {
   "cell_type": "markdown",
   "id": "f734eae2",
   "metadata": {},
   "source": [
    "# Trove oral histories\n",
    "\n",
    "Current version: [v0.0.0](https://github.com/GLAM-Workbench/trove-oral-histories/releases/tag/v0.0.0)\n",
    "\n",
    "Notebooks for working with data about oral histories in Trove. For more information see the [Trove oral histories](https://glam-workbench.net/trove-oral-histories/) section of the GLAM Workbench.\n",
    "\n",
    "## Notebook topics\n",
    "\n",
    "* [Notebook title](sample_notebook.ipynb) – this notebook does things\n",
    "\n",
    "See the [GLAM Workbench for more details](https://glam-workbench.net/trove-oral-histories/).\n"
   ]
  },
  {
   "cell_type": "markdown",
   "id": "f1a6fa8e",
   "metadata": {},
   "source": [
    "## Cite as\n",
    "\n",
    "See the GLAM Workbench or [Zenodo](https://doi.org/10.5281/zenodo.3521724) for up-to-date citation details.\n",
    "\n",
    "----\n",
    "\n",
    "This repository is part of the [GLAM Workbench](https://glam-workbench.net/).  \n"
   ]
  }
 ],
 "metadata": {
  "jupytext": {
   "cell_metadata_filter": "-all"
  },
  "kernelspec": {
   "display_name": "Python 3 (ipykernel)",
   "language": "python",
   "name": "python3"
  }
 },
 "nbformat": 4,
 "nbformat_minor": 5
}
